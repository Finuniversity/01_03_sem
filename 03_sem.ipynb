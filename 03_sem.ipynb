{
 "cells": [
  {
   "cell_type": "markdown",
   "id": "5ba2d236",
   "metadata": {},
   "source": [
    "# Семинар 01.03"
   ]
  },
  {
   "cell_type": "markdown",
   "id": "c16ac287",
   "metadata": {},
   "source": [
    "### Задания"
   ]
  },
  {
   "cell_type": "markdown",
   "id": "bc370609",
   "metadata": {},
   "source": [
    "16) Реализовать для фигур функцию расчета площади.\n",
    "\n",
    "17) Создать несколько объектов класса треугольник, прямоугольник и фигура, поместить их в список. Рассчитать суммарную площадь всех форм, находящихся в списке.\n",
    "\n",
    "18) Для 17 добавить в список объект линия (для которого не реализована функция площади). При помощи функции определения принадлежности объекта к классу модифицировать расчет суммарной площади так, чтобы он не приводил к ошибке.\n",
    "\n",
    "19) При помощи декоратора @property превратить функцию площади в свойство. Модифицировать 18 в соответствии с новыми возможностями"
   ]
  },
  {
   "cell_type": "code",
   "execution_count": null,
   "id": "51f9f8ec",
   "metadata": {},
   "outputs": [],
   "source": []
  }
 ],
 "metadata": {
  "kernelspec": {
   "display_name": "Python 3 (ipykernel)",
   "language": "python",
   "name": "python3"
  },
  "language_info": {
   "codemirror_mode": {
    "name": "ipython",
    "version": 3
   },
   "file_extension": ".py",
   "mimetype": "text/x-python",
   "name": "python",
   "nbconvert_exporter": "python",
   "pygments_lexer": "ipython3",
   "version": "3.9.7"
  }
 },
 "nbformat": 4,
 "nbformat_minor": 5
}
